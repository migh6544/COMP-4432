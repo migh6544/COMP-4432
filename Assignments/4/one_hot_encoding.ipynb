{
 "cells": [
  {
   "cell_type": "markdown",
   "id": "88aea5dd-078c-4957-9c11-a4d9323af174",
   "metadata": {},
   "source": [
    "# Overview\n",
    "#### This notebook will demonstrate usage of $OneHotEncoder$ functionality on a small data set"
   ]
  },
  {
   "cell_type": "code",
   "execution_count": 1,
   "id": "5bc798ce-4402-478a-95ae-94571ad16d3d",
   "metadata": {},
   "outputs": [],
   "source": [
    "import numpy as np\n",
    "import pandas as pd\n",
    "import seaborn as sns\n",
    "\n",
    "from sklearn.model_selection import train_test_split\n",
    "from sklearn.preprocessing import OneHotEncoder, StandardScaler\n",
    "from sklearn.linear_model import LinearRegression"
   ]
  },
  {
   "cell_type": "markdown",
   "id": "6736d777-ce87-481c-9aa3-2c2eb0f7635a",
   "metadata": {},
   "source": [
    "## Load the MPG dataset from seaborn\n",
    "- $mpg$ is the target variable\n",
    "- We would use the remaining data as input features"
   ]
  },
  {
   "cell_type": "code",
   "execution_count": 3,
   "id": "4c2d3546-c077-4790-a28e-12c7b6bc928b",
   "metadata": {},
   "outputs": [
    {
     "data": {
      "text/html": [
       "<div>\n",
       "<style scoped>\n",
       "    .dataframe tbody tr th:only-of-type {\n",
       "        vertical-align: middle;\n",
       "    }\n",
       "\n",
       "    .dataframe tbody tr th {\n",
       "        vertical-align: top;\n",
       "    }\n",
       "\n",
       "    .dataframe thead th {\n",
       "        text-align: right;\n",
       "    }\n",
       "</style>\n",
       "<table border=\"1\" class=\"dataframe\">\n",
       "  <thead>\n",
       "    <tr style=\"text-align: right;\">\n",
       "      <th></th>\n",
       "      <th>mpg</th>\n",
       "      <th>cylinders</th>\n",
       "      <th>displacement</th>\n",
       "      <th>horsepower</th>\n",
       "      <th>weight</th>\n",
       "      <th>acceleration</th>\n",
       "      <th>model_year</th>\n",
       "      <th>origin</th>\n",
       "      <th>name</th>\n",
       "    </tr>\n",
       "  </thead>\n",
       "  <tbody>\n",
       "    <tr>\n",
       "      <th>0</th>\n",
       "      <td>18.0</td>\n",
       "      <td>8</td>\n",
       "      <td>307.0</td>\n",
       "      <td>130.0</td>\n",
       "      <td>3504</td>\n",
       "      <td>12.0</td>\n",
       "      <td>70</td>\n",
       "      <td>usa</td>\n",
       "      <td>chevrolet chevelle malibu</td>\n",
       "    </tr>\n",
       "    <tr>\n",
       "      <th>1</th>\n",
       "      <td>15.0</td>\n",
       "      <td>8</td>\n",
       "      <td>350.0</td>\n",
       "      <td>165.0</td>\n",
       "      <td>3693</td>\n",
       "      <td>11.5</td>\n",
       "      <td>70</td>\n",
       "      <td>usa</td>\n",
       "      <td>buick skylark 320</td>\n",
       "    </tr>\n",
       "    <tr>\n",
       "      <th>2</th>\n",
       "      <td>18.0</td>\n",
       "      <td>8</td>\n",
       "      <td>318.0</td>\n",
       "      <td>150.0</td>\n",
       "      <td>3436</td>\n",
       "      <td>11.0</td>\n",
       "      <td>70</td>\n",
       "      <td>usa</td>\n",
       "      <td>plymouth satellite</td>\n",
       "    </tr>\n",
       "    <tr>\n",
       "      <th>3</th>\n",
       "      <td>16.0</td>\n",
       "      <td>8</td>\n",
       "      <td>304.0</td>\n",
       "      <td>150.0</td>\n",
       "      <td>3433</td>\n",
       "      <td>12.0</td>\n",
       "      <td>70</td>\n",
       "      <td>usa</td>\n",
       "      <td>amc rebel sst</td>\n",
       "    </tr>\n",
       "    <tr>\n",
       "      <th>4</th>\n",
       "      <td>17.0</td>\n",
       "      <td>8</td>\n",
       "      <td>302.0</td>\n",
       "      <td>140.0</td>\n",
       "      <td>3449</td>\n",
       "      <td>10.5</td>\n",
       "      <td>70</td>\n",
       "      <td>usa</td>\n",
       "      <td>ford torino</td>\n",
       "    </tr>\n",
       "  </tbody>\n",
       "</table>\n",
       "</div>"
      ],
      "text/plain": [
       "    mpg  cylinders  displacement  horsepower  weight  acceleration  \\\n",
       "0  18.0          8         307.0       130.0    3504          12.0   \n",
       "1  15.0          8         350.0       165.0    3693          11.5   \n",
       "2  18.0          8         318.0       150.0    3436          11.0   \n",
       "3  16.0          8         304.0       150.0    3433          12.0   \n",
       "4  17.0          8         302.0       140.0    3449          10.5   \n",
       "\n",
       "   model_year origin                       name  \n",
       "0          70    usa  chevrolet chevelle malibu  \n",
       "1          70    usa          buick skylark 320  \n",
       "2          70    usa         plymouth satellite  \n",
       "3          70    usa              amc rebel sst  \n",
       "4          70    usa                ford torino  "
      ]
     },
     "execution_count": 3,
     "metadata": {},
     "output_type": "execute_result"
    }
   ],
   "source": [
    "df = sns.load_dataset(name= 'mpg')\n",
    "\n",
    "df.head()"
   ]
  },
  {
   "cell_type": "markdown",
   "id": "0df74a27-8e66-443e-a5e8-37284d8e783b",
   "metadata": {},
   "source": [
    "## Examine the data types of the data\n",
    "- Notice $origin$ and $name$ are $object$ data type"
   ]
  },
  {
   "cell_type": "code",
   "execution_count": 5,
   "id": "aab5c892-e397-4240-a05f-f733e658845e",
   "metadata": {},
   "outputs": [
    {
     "data": {
      "text/plain": [
       "mpg             float64\n",
       "cylinders         int64\n",
       "displacement    float64\n",
       "horsepower      float64\n",
       "weight            int64\n",
       "acceleration    float64\n",
       "model_year        int64\n",
       "origin           object\n",
       "name             object\n",
       "dtype: object"
      ]
     },
     "execution_count": 5,
     "metadata": {},
     "output_type": "execute_result"
    }
   ],
   "source": [
    "df.dtypes"
   ]
  },
  {
   "cell_type": "markdown",
   "id": "30677ba2-6b4f-4ca0-888b-d2c9d3d36cf2",
   "metadata": {},
   "source": [
    "### Always check for missing values\n",
    "- The feature $horsepower$ is missing six"
   ]
  },
  {
   "cell_type": "code",
   "execution_count": 10,
   "id": "1702a38d-e168-47b6-be1f-9d4be08f149a",
   "metadata": {},
   "outputs": [
    {
     "data": {
      "text/plain": [
       "horsepower    6\n",
       "dtype: int64"
      ]
     },
     "execution_count": 10,
     "metadata": {},
     "output_type": "execute_result"
    }
   ],
   "source": [
    "df.isna().sum()[df.isna().sum() > 0]"
   ]
  },
  {
   "cell_type": "markdown",
   "id": "d559a680-8a9c-4872-92a1-723ce3bbc60c",
   "metadata": {},
   "source": [
    "### For this quick demonstration, the instances with missing values will be removed "
   ]
  },
  {
   "cell_type": "code",
   "execution_count": 13,
   "id": "e2de2b43-6cb3-4421-80af-7475cc63fd40",
   "metadata": {},
   "outputs": [],
   "source": [
    "df.dropna(inplace= True)"
   ]
  },
  {
   "cell_type": "markdown",
   "id": "d6e9f3dc-135a-42df-a75f-469b4dc55a0b",
   "metadata": {},
   "source": [
    "### Examine the descriptive statistics\n",
    "- By default, describe() considers only numerical data, dtype $\\in$ (float, int)\n",
    "- Adding $include = all$ into the method call will produce some statistics for the non-numerical features\n",
    "- Notice the $unique, top, freq$ columns are populated with NaN values for numerical data\n",
    "- And, the descriptive statistic columns are populated with NaN values for non-numerical\n",
    "- The number of unique values for the non-numerical features represents the cardinality of the column\n",
    "    - Notice that $origin$ has three unique values. \n",
    "    - Specific to this data set, $name$ has high cardinality, 301 unique values in a set of 398 elements "
   ]
  },
  {
   "cell_type": "code",
   "execution_count": 16,
   "id": "b7aef130-4608-43e2-b055-9aabd9ede0ef",
   "metadata": {},
   "outputs": [
    {
     "data": {
      "text/html": [
       "<div>\n",
       "<style scoped>\n",
       "    .dataframe tbody tr th:only-of-type {\n",
       "        vertical-align: middle;\n",
       "    }\n",
       "\n",
       "    .dataframe tbody tr th {\n",
       "        vertical-align: top;\n",
       "    }\n",
       "\n",
       "    .dataframe thead th {\n",
       "        text-align: right;\n",
       "    }\n",
       "</style>\n",
       "<table border=\"1\" class=\"dataframe\">\n",
       "  <thead>\n",
       "    <tr style=\"text-align: right;\">\n",
       "      <th></th>\n",
       "      <th>count</th>\n",
       "      <th>unique</th>\n",
       "      <th>top</th>\n",
       "      <th>freq</th>\n",
       "      <th>mean</th>\n",
       "      <th>std</th>\n",
       "      <th>min</th>\n",
       "      <th>25%</th>\n",
       "      <th>50%</th>\n",
       "      <th>75%</th>\n",
       "      <th>max</th>\n",
       "    </tr>\n",
       "  </thead>\n",
       "  <tbody>\n",
       "    <tr>\n",
       "      <th>mpg</th>\n",
       "      <td>392.0</td>\n",
       "      <td>NaN</td>\n",
       "      <td>NaN</td>\n",
       "      <td>NaN</td>\n",
       "      <td>23.445918</td>\n",
       "      <td>7.805007</td>\n",
       "      <td>9.0</td>\n",
       "      <td>17.0</td>\n",
       "      <td>22.75</td>\n",
       "      <td>29.0</td>\n",
       "      <td>46.6</td>\n",
       "    </tr>\n",
       "    <tr>\n",
       "      <th>cylinders</th>\n",
       "      <td>392.0</td>\n",
       "      <td>NaN</td>\n",
       "      <td>NaN</td>\n",
       "      <td>NaN</td>\n",
       "      <td>5.471939</td>\n",
       "      <td>1.705783</td>\n",
       "      <td>3.0</td>\n",
       "      <td>4.0</td>\n",
       "      <td>4.0</td>\n",
       "      <td>8.0</td>\n",
       "      <td>8.0</td>\n",
       "    </tr>\n",
       "    <tr>\n",
       "      <th>displacement</th>\n",
       "      <td>392.0</td>\n",
       "      <td>NaN</td>\n",
       "      <td>NaN</td>\n",
       "      <td>NaN</td>\n",
       "      <td>194.41199</td>\n",
       "      <td>104.644004</td>\n",
       "      <td>68.0</td>\n",
       "      <td>105.0</td>\n",
       "      <td>151.0</td>\n",
       "      <td>275.75</td>\n",
       "      <td>455.0</td>\n",
       "    </tr>\n",
       "    <tr>\n",
       "      <th>horsepower</th>\n",
       "      <td>392.0</td>\n",
       "      <td>NaN</td>\n",
       "      <td>NaN</td>\n",
       "      <td>NaN</td>\n",
       "      <td>104.469388</td>\n",
       "      <td>38.49116</td>\n",
       "      <td>46.0</td>\n",
       "      <td>75.0</td>\n",
       "      <td>93.5</td>\n",
       "      <td>126.0</td>\n",
       "      <td>230.0</td>\n",
       "    </tr>\n",
       "    <tr>\n",
       "      <th>weight</th>\n",
       "      <td>392.0</td>\n",
       "      <td>NaN</td>\n",
       "      <td>NaN</td>\n",
       "      <td>NaN</td>\n",
       "      <td>2977.584184</td>\n",
       "      <td>849.40256</td>\n",
       "      <td>1613.0</td>\n",
       "      <td>2225.25</td>\n",
       "      <td>2803.5</td>\n",
       "      <td>3614.75</td>\n",
       "      <td>5140.0</td>\n",
       "    </tr>\n",
       "    <tr>\n",
       "      <th>acceleration</th>\n",
       "      <td>392.0</td>\n",
       "      <td>NaN</td>\n",
       "      <td>NaN</td>\n",
       "      <td>NaN</td>\n",
       "      <td>15.541327</td>\n",
       "      <td>2.758864</td>\n",
       "      <td>8.0</td>\n",
       "      <td>13.775</td>\n",
       "      <td>15.5</td>\n",
       "      <td>17.025</td>\n",
       "      <td>24.8</td>\n",
       "    </tr>\n",
       "    <tr>\n",
       "      <th>model_year</th>\n",
       "      <td>392.0</td>\n",
       "      <td>NaN</td>\n",
       "      <td>NaN</td>\n",
       "      <td>NaN</td>\n",
       "      <td>75.979592</td>\n",
       "      <td>3.683737</td>\n",
       "      <td>70.0</td>\n",
       "      <td>73.0</td>\n",
       "      <td>76.0</td>\n",
       "      <td>79.0</td>\n",
       "      <td>82.0</td>\n",
       "    </tr>\n",
       "    <tr>\n",
       "      <th>origin</th>\n",
       "      <td>392</td>\n",
       "      <td>3</td>\n",
       "      <td>usa</td>\n",
       "      <td>245</td>\n",
       "      <td>NaN</td>\n",
       "      <td>NaN</td>\n",
       "      <td>NaN</td>\n",
       "      <td>NaN</td>\n",
       "      <td>NaN</td>\n",
       "      <td>NaN</td>\n",
       "      <td>NaN</td>\n",
       "    </tr>\n",
       "    <tr>\n",
       "      <th>name</th>\n",
       "      <td>392</td>\n",
       "      <td>301</td>\n",
       "      <td>amc matador</td>\n",
       "      <td>5</td>\n",
       "      <td>NaN</td>\n",
       "      <td>NaN</td>\n",
       "      <td>NaN</td>\n",
       "      <td>NaN</td>\n",
       "      <td>NaN</td>\n",
       "      <td>NaN</td>\n",
       "      <td>NaN</td>\n",
       "    </tr>\n",
       "  </tbody>\n",
       "</table>\n",
       "</div>"
      ],
      "text/plain": [
       "              count unique          top freq         mean         std     min  \\\n",
       "mpg           392.0    NaN          NaN  NaN    23.445918    7.805007     9.0   \n",
       "cylinders     392.0    NaN          NaN  NaN     5.471939    1.705783     3.0   \n",
       "displacement  392.0    NaN          NaN  NaN    194.41199  104.644004    68.0   \n",
       "horsepower    392.0    NaN          NaN  NaN   104.469388    38.49116    46.0   \n",
       "weight        392.0    NaN          NaN  NaN  2977.584184   849.40256  1613.0   \n",
       "acceleration  392.0    NaN          NaN  NaN    15.541327    2.758864     8.0   \n",
       "model_year    392.0    NaN          NaN  NaN    75.979592    3.683737    70.0   \n",
       "origin          392      3          usa  245          NaN         NaN     NaN   \n",
       "name            392    301  amc matador    5          NaN         NaN     NaN   \n",
       "\n",
       "                  25%     50%      75%     max  \n",
       "mpg              17.0   22.75     29.0    46.6  \n",
       "cylinders         4.0     4.0      8.0     8.0  \n",
       "displacement    105.0   151.0   275.75   455.0  \n",
       "horsepower       75.0    93.5    126.0   230.0  \n",
       "weight        2225.25  2803.5  3614.75  5140.0  \n",
       "acceleration   13.775    15.5   17.025    24.8  \n",
       "model_year       73.0    76.0     79.0    82.0  \n",
       "origin            NaN     NaN      NaN     NaN  \n",
       "name              NaN     NaN      NaN     NaN  "
      ]
     },
     "execution_count": 16,
     "metadata": {},
     "output_type": "execute_result"
    }
   ],
   "source": [
    "df.describe(include= 'all').T"
   ]
  },
  {
   "cell_type": "markdown",
   "id": "32d6f7d3-e19f-46ea-8591-97f0c65da1bf",
   "metadata": {},
   "source": [
    "## For this demonstration, let's simplify the dataset\n",
    "- Remove $name$ and $model\\_year$"
   ]
  },
  {
   "cell_type": "code",
   "execution_count": 19,
   "id": "03bb4ba8-a2fa-463f-a22a-dabcfd23b6f9",
   "metadata": {},
   "outputs": [
    {
     "data": {
      "text/html": [
       "<div>\n",
       "<style scoped>\n",
       "    .dataframe tbody tr th:only-of-type {\n",
       "        vertical-align: middle;\n",
       "    }\n",
       "\n",
       "    .dataframe tbody tr th {\n",
       "        vertical-align: top;\n",
       "    }\n",
       "\n",
       "    .dataframe thead th {\n",
       "        text-align: right;\n",
       "    }\n",
       "</style>\n",
       "<table border=\"1\" class=\"dataframe\">\n",
       "  <thead>\n",
       "    <tr style=\"text-align: right;\">\n",
       "      <th></th>\n",
       "      <th>mpg</th>\n",
       "      <th>cylinders</th>\n",
       "      <th>displacement</th>\n",
       "      <th>horsepower</th>\n",
       "      <th>weight</th>\n",
       "      <th>acceleration</th>\n",
       "      <th>origin</th>\n",
       "    </tr>\n",
       "  </thead>\n",
       "  <tbody>\n",
       "    <tr>\n",
       "      <th>0</th>\n",
       "      <td>18.0</td>\n",
       "      <td>8</td>\n",
       "      <td>307.0</td>\n",
       "      <td>130.0</td>\n",
       "      <td>3504</td>\n",
       "      <td>12.0</td>\n",
       "      <td>usa</td>\n",
       "    </tr>\n",
       "    <tr>\n",
       "      <th>1</th>\n",
       "      <td>15.0</td>\n",
       "      <td>8</td>\n",
       "      <td>350.0</td>\n",
       "      <td>165.0</td>\n",
       "      <td>3693</td>\n",
       "      <td>11.5</td>\n",
       "      <td>usa</td>\n",
       "    </tr>\n",
       "    <tr>\n",
       "      <th>2</th>\n",
       "      <td>18.0</td>\n",
       "      <td>8</td>\n",
       "      <td>318.0</td>\n",
       "      <td>150.0</td>\n",
       "      <td>3436</td>\n",
       "      <td>11.0</td>\n",
       "      <td>usa</td>\n",
       "    </tr>\n",
       "    <tr>\n",
       "      <th>3</th>\n",
       "      <td>16.0</td>\n",
       "      <td>8</td>\n",
       "      <td>304.0</td>\n",
       "      <td>150.0</td>\n",
       "      <td>3433</td>\n",
       "      <td>12.0</td>\n",
       "      <td>usa</td>\n",
       "    </tr>\n",
       "    <tr>\n",
       "      <th>4</th>\n",
       "      <td>17.0</td>\n",
       "      <td>8</td>\n",
       "      <td>302.0</td>\n",
       "      <td>140.0</td>\n",
       "      <td>3449</td>\n",
       "      <td>10.5</td>\n",
       "      <td>usa</td>\n",
       "    </tr>\n",
       "  </tbody>\n",
       "</table>\n",
       "</div>"
      ],
      "text/plain": [
       "    mpg  cylinders  displacement  horsepower  weight  acceleration origin\n",
       "0  18.0          8         307.0       130.0    3504          12.0    usa\n",
       "1  15.0          8         350.0       165.0    3693          11.5    usa\n",
       "2  18.0          8         318.0       150.0    3436          11.0    usa\n",
       "3  16.0          8         304.0       150.0    3433          12.0    usa\n",
       "4  17.0          8         302.0       140.0    3449          10.5    usa"
      ]
     },
     "execution_count": 19,
     "metadata": {},
     "output_type": "execute_result"
    }
   ],
   "source": [
    "df.drop(columns= ['name', 'model_year'], inplace= True)\n",
    "\n",
    "df.head()"
   ]
  },
  {
   "cell_type": "markdown",
   "id": "6bd5ef7f-5b6f-40cc-a93f-efa0bfce3182",
   "metadata": {},
   "source": [
    "## Let's get the count of each element in the features $cylinders$"
   ]
  },
  {
   "cell_type": "code",
   "execution_count": 22,
   "id": "a0faa4da-f95d-46f4-9330-b7178123e97e",
   "metadata": {},
   "outputs": [
    {
     "data": {
      "text/plain": [
       "cylinders\n",
       "4    199\n",
       "8    103\n",
       "6     83\n",
       "3      4\n",
       "5      3\n",
       "Name: count, dtype: int64"
      ]
     },
     "execution_count": 22,
     "metadata": {},
     "output_type": "execute_result"
    }
   ],
   "source": [
    "df.cylinders.value_counts()"
   ]
  },
  {
   "cell_type": "markdown",
   "id": "f5679dca-49c5-4cea-a338-9b2bafbb58d2",
   "metadata": {},
   "source": [
    "## Let's drop the instances with $cylinders = (3, 5)$"
   ]
  },
  {
   "cell_type": "code",
   "execution_count": 25,
   "id": "288e47db-1c18-4b56-9fef-2e3103471645",
   "metadata": {},
   "outputs": [
    {
     "data": {
      "text/plain": [
       "cylinders\n",
       "4    199\n",
       "8    103\n",
       "6     83\n",
       "Name: count, dtype: int64"
      ]
     },
     "execution_count": 25,
     "metadata": {},
     "output_type": "execute_result"
    }
   ],
   "source": [
    "df.drop(df.loc[df.cylinders.isin([3, 5])].index, inplace= True)\n",
    "\n",
    "df.cylinders.value_counts()"
   ]
  },
  {
   "attachments": {},
   "cell_type": "markdown",
   "id": "eb807b4b-1c99-44c7-9a8c-f98b44d863dd",
   "metadata": {},
   "source": [
    "## Let's assume the six input features are needed\n",
    "- No feature extraction or reduction\n",
    "    - If you conduct correlation analysis, you will see a lot of strongly correlated features"
   ]
  },
  {
   "cell_type": "markdown",
   "id": "b5d5376a-b229-4ac8-92b1-3868b943b1d3",
   "metadata": {},
   "source": [
    "## Partition the data"
   ]
  },
  {
   "cell_type": "code",
   "execution_count": 29,
   "id": "935a3675-3060-42d3-8947-d93f93d28a4f",
   "metadata": {},
   "outputs": [],
   "source": [
    "X_train, X_test, y_train, y_test = \\\n",
    "train_test_split(df.drop(columns= ['mpg']), \n",
    "                 df['mpg'], \n",
    "                 test_size= 0.20, \n",
    "                 stratify= df[['cylinders', 'origin']]\n",
    "                )"
   ]
  },
  {
   "cell_type": "markdown",
   "id": "091bf12c-8efd-43ef-8f0f-c9ba0ec59669",
   "metadata": {},
   "source": [
    "# Encoding categorical features\n",
    "#### Input features $cylinders$ and $origin$ are categorical and need to be encoded\n",
    "#### Employ OneHotEncoder with default settings"
   ]
  },
  {
   "cell_type": "code",
   "execution_count": 32,
   "id": "b49f7762-6609-4aac-b8f4-aacdf650e713",
   "metadata": {},
   "outputs": [],
   "source": [
    "categorical_features = ['cylinders', 'origin']"
   ]
  },
  {
   "cell_type": "code",
   "execution_count": 34,
   "id": "818e591c-c70d-4ca7-99a1-1d9e15167bda",
   "metadata": {},
   "outputs": [
    {
     "name": "stdout",
     "output_type": "stream",
     "text": [
      "Feature       Unique Values\n",
      "cylinders     [4 6 8]\n",
      "origin        ['europe' 'japan' 'usa']\n",
      "\n",
      "Encoded Feature Names\n",
      "cylinders_4\n",
      "cylinders_6\n",
      "cylinders_8\n",
      "origin_europe\n",
      "origin_japan\n",
      "origin_usa\n"
     ]
    }
   ],
   "source": [
    "encoder = OneHotEncoder().fit(X_train[categorical_features])\n",
    "\n",
    "\n",
    "print(f'{\"Feature\":<10}{\"\":>4}{\"Unique Values\"}')\n",
    "for i in np.arange(len(encoder.feature_names_in_)):\n",
    "    print(f'{encoder.feature_names_in_[i]:<10}{\"\":>4}{encoder.categories_[i]}')\n",
    "print()\n",
    "print('Encoded Feature Names')\n",
    "[print(i) for i in encoder.get_feature_names_out()];"
   ]
  },
  {
   "cell_type": "markdown",
   "id": "da71eac7-9481-4b58-a349-16816b98e229",
   "metadata": {},
   "source": [
    "#### Show ouput when $transform$ is called\n",
    "- Returns sparse matrix"
   ]
  },
  {
   "cell_type": "code",
   "execution_count": 36,
   "id": "0e4a1691-0e56-403a-a289-e220d1afa97f",
   "metadata": {},
   "outputs": [
    {
     "data": {
      "text/plain": [
       "<308x6 sparse matrix of type '<class 'numpy.float64'>'\n",
       "\twith 616 stored elements in Compressed Sparse Row format>"
      ]
     },
     "execution_count": 36,
     "metadata": {},
     "output_type": "execute_result"
    }
   ],
   "source": [
    "encoder.transform(X_train[categorical_features])"
   ]
  },
  {
   "cell_type": "markdown",
   "id": "3c845219-09ad-43c7-9b2b-19d9a9526138",
   "metadata": {},
   "source": [
    "#### Update the settings in $OneHotEncoder$ to produce dense output"
   ]
  },
  {
   "cell_type": "code",
   "execution_count": 39,
   "id": "79e7f0ae-0a12-47e5-b6db-a9eae2d51b8b",
   "metadata": {},
   "outputs": [
    {
     "data": {
      "text/plain": [
       "array([[0., 0., 1., 0., 0., 1.],\n",
       "       [0., 0., 1., 0., 0., 1.],\n",
       "       [1., 0., 0., 0., 1., 0.],\n",
       "       ...,\n",
       "       [0., 1., 0., 0., 0., 1.],\n",
       "       [0., 1., 0., 0., 0., 1.],\n",
       "       [0., 0., 1., 0., 0., 1.]])"
      ]
     },
     "execution_count": 39,
     "metadata": {},
     "output_type": "execute_result"
    }
   ],
   "source": [
    "encoder = OneHotEncoder(sparse_output= False).fit(X_train[categorical_features])\n",
    "\n",
    "encoder.transform(X_train[categorical_features])"
   ]
  },
  {
   "cell_type": "markdown",
   "id": "4abc33e2-a848-4efc-a56e-a6e61749aef0",
   "metadata": {},
   "source": [
    "### Updating the Training and Testing data requires a little work...\n",
    "#### Here, we'll keep all created encoded variables"
   ]
  },
  {
   "cell_type": "code",
   "execution_count": 42,
   "id": "b21142ed-1d10-48ac-b0d3-9d53e73bd863",
   "metadata": {},
   "outputs": [
    {
     "data": {
      "text/html": [
       "<div>\n",
       "<style scoped>\n",
       "    .dataframe tbody tr th:only-of-type {\n",
       "        vertical-align: middle;\n",
       "    }\n",
       "\n",
       "    .dataframe tbody tr th {\n",
       "        vertical-align: top;\n",
       "    }\n",
       "\n",
       "    .dataframe thead th {\n",
       "        text-align: right;\n",
       "    }\n",
       "</style>\n",
       "<table border=\"1\" class=\"dataframe\">\n",
       "  <thead>\n",
       "    <tr style=\"text-align: right;\">\n",
       "      <th></th>\n",
       "      <th>displacement</th>\n",
       "      <th>horsepower</th>\n",
       "      <th>weight</th>\n",
       "      <th>acceleration</th>\n",
       "      <th>cylinders_4</th>\n",
       "      <th>cylinders_6</th>\n",
       "      <th>cylinders_8</th>\n",
       "      <th>origin_europe</th>\n",
       "      <th>origin_japan</th>\n",
       "      <th>origin_usa</th>\n",
       "    </tr>\n",
       "  </thead>\n",
       "  <tbody>\n",
       "    <tr>\n",
       "      <th>230</th>\n",
       "      <td>350.0</td>\n",
       "      <td>170.0</td>\n",
       "      <td>4165</td>\n",
       "      <td>11.4</td>\n",
       "      <td>0.0</td>\n",
       "      <td>0.0</td>\n",
       "      <td>1.0</td>\n",
       "      <td>0.0</td>\n",
       "      <td>0.0</td>\n",
       "      <td>1.0</td>\n",
       "    </tr>\n",
       "    <tr>\n",
       "      <th>0</th>\n",
       "      <td>307.0</td>\n",
       "      <td>130.0</td>\n",
       "      <td>3504</td>\n",
       "      <td>12.0</td>\n",
       "      <td>0.0</td>\n",
       "      <td>0.0</td>\n",
       "      <td>1.0</td>\n",
       "      <td>0.0</td>\n",
       "      <td>0.0</td>\n",
       "      <td>1.0</td>\n",
       "    </tr>\n",
       "    <tr>\n",
       "      <th>181</th>\n",
       "      <td>91.0</td>\n",
       "      <td>53.0</td>\n",
       "      <td>1795</td>\n",
       "      <td>17.5</td>\n",
       "      <td>1.0</td>\n",
       "      <td>0.0</td>\n",
       "      <td>0.0</td>\n",
       "      <td>0.0</td>\n",
       "      <td>1.0</td>\n",
       "      <td>0.0</td>\n",
       "    </tr>\n",
       "    <tr>\n",
       "      <th>281</th>\n",
       "      <td>200.0</td>\n",
       "      <td>85.0</td>\n",
       "      <td>2990</td>\n",
       "      <td>18.2</td>\n",
       "      <td>0.0</td>\n",
       "      <td>1.0</td>\n",
       "      <td>0.0</td>\n",
       "      <td>0.0</td>\n",
       "      <td>0.0</td>\n",
       "      <td>1.0</td>\n",
       "    </tr>\n",
       "    <tr>\n",
       "      <th>317</th>\n",
       "      <td>97.0</td>\n",
       "      <td>78.0</td>\n",
       "      <td>2188</td>\n",
       "      <td>15.8</td>\n",
       "      <td>1.0</td>\n",
       "      <td>0.0</td>\n",
       "      <td>0.0</td>\n",
       "      <td>1.0</td>\n",
       "      <td>0.0</td>\n",
       "      <td>0.0</td>\n",
       "    </tr>\n",
       "  </tbody>\n",
       "</table>\n",
       "</div>"
      ],
      "text/plain": [
       "     displacement  horsepower  weight  acceleration  cylinders_4  cylinders_6  \\\n",
       "230         350.0       170.0    4165          11.4          0.0          0.0   \n",
       "0           307.0       130.0    3504          12.0          0.0          0.0   \n",
       "181          91.0        53.0    1795          17.5          1.0          0.0   \n",
       "281         200.0        85.0    2990          18.2          0.0          1.0   \n",
       "317          97.0        78.0    2188          15.8          1.0          0.0   \n",
       "\n",
       "     cylinders_8  origin_europe  origin_japan  origin_usa  \n",
       "230          1.0            0.0           0.0         1.0  \n",
       "0            1.0            0.0           0.0         1.0  \n",
       "181          0.0            0.0           1.0         0.0  \n",
       "281          0.0            0.0           0.0         1.0  \n",
       "317          0.0            1.0           0.0         0.0  "
      ]
     },
     "execution_count": 42,
     "metadata": {},
     "output_type": "execute_result"
    }
   ],
   "source": [
    "## Create a copy of the Training Data\n",
    "## Typically, X_train would get updated\n",
    "X_train_first_kept = X_train.copy()\n",
    "\n",
    "## Add the encoded features to the Training Data\n",
    "X_train_first_kept[encoder.get_feature_names_out()] = encoder.transform(X_train_first_kept[categorical_features])\n",
    "\n",
    "## Remove the original categorical features\n",
    "X_train_first_kept.drop(columns= categorical_features, inplace= True)\n",
    "\n",
    "X_train_first_kept.head()"
   ]
  },
  {
   "cell_type": "code",
   "execution_count": 44,
   "id": "a677dae4-4306-49ee-8e3a-6d0f0d3f45f2",
   "metadata": {},
   "outputs": [
    {
     "data": {
      "text/html": [
       "<div>\n",
       "<style scoped>\n",
       "    .dataframe tbody tr th:only-of-type {\n",
       "        vertical-align: middle;\n",
       "    }\n",
       "\n",
       "    .dataframe tbody tr th {\n",
       "        vertical-align: top;\n",
       "    }\n",
       "\n",
       "    .dataframe thead th {\n",
       "        text-align: right;\n",
       "    }\n",
       "</style>\n",
       "<table border=\"1\" class=\"dataframe\">\n",
       "  <thead>\n",
       "    <tr style=\"text-align: right;\">\n",
       "      <th></th>\n",
       "      <th>displacement</th>\n",
       "      <th>horsepower</th>\n",
       "      <th>weight</th>\n",
       "      <th>acceleration</th>\n",
       "      <th>cylinders_4</th>\n",
       "      <th>cylinders_6</th>\n",
       "      <th>cylinders_8</th>\n",
       "      <th>origin_europe</th>\n",
       "      <th>origin_japan</th>\n",
       "      <th>origin_usa</th>\n",
       "    </tr>\n",
       "  </thead>\n",
       "  <tbody>\n",
       "    <tr>\n",
       "      <th>236</th>\n",
       "      <td>140.0</td>\n",
       "      <td>89.0</td>\n",
       "      <td>2755</td>\n",
       "      <td>15.8</td>\n",
       "      <td>1.0</td>\n",
       "      <td>0.0</td>\n",
       "      <td>0.0</td>\n",
       "      <td>0.0</td>\n",
       "      <td>0.0</td>\n",
       "      <td>1.0</td>\n",
       "    </tr>\n",
       "    <tr>\n",
       "      <th>362</th>\n",
       "      <td>146.0</td>\n",
       "      <td>120.0</td>\n",
       "      <td>2930</td>\n",
       "      <td>13.8</td>\n",
       "      <td>0.0</td>\n",
       "      <td>1.0</td>\n",
       "      <td>0.0</td>\n",
       "      <td>0.0</td>\n",
       "      <td>1.0</td>\n",
       "      <td>0.0</td>\n",
       "    </tr>\n",
       "    <tr>\n",
       "      <th>172</th>\n",
       "      <td>90.0</td>\n",
       "      <td>71.0</td>\n",
       "      <td>2223</td>\n",
       "      <td>16.5</td>\n",
       "      <td>1.0</td>\n",
       "      <td>0.0</td>\n",
       "      <td>0.0</td>\n",
       "      <td>1.0</td>\n",
       "      <td>0.0</td>\n",
       "      <td>0.0</td>\n",
       "    </tr>\n",
       "    <tr>\n",
       "      <th>22</th>\n",
       "      <td>104.0</td>\n",
       "      <td>95.0</td>\n",
       "      <td>2375</td>\n",
       "      <td>17.5</td>\n",
       "      <td>1.0</td>\n",
       "      <td>0.0</td>\n",
       "      <td>0.0</td>\n",
       "      <td>1.0</td>\n",
       "      <td>0.0</td>\n",
       "      <td>0.0</td>\n",
       "    </tr>\n",
       "    <tr>\n",
       "      <th>100</th>\n",
       "      <td>250.0</td>\n",
       "      <td>88.0</td>\n",
       "      <td>3021</td>\n",
       "      <td>16.5</td>\n",
       "      <td>0.0</td>\n",
       "      <td>1.0</td>\n",
       "      <td>0.0</td>\n",
       "      <td>0.0</td>\n",
       "      <td>0.0</td>\n",
       "      <td>1.0</td>\n",
       "    </tr>\n",
       "  </tbody>\n",
       "</table>\n",
       "</div>"
      ],
      "text/plain": [
       "     displacement  horsepower  weight  acceleration  cylinders_4  cylinders_6  \\\n",
       "236         140.0        89.0    2755          15.8          1.0          0.0   \n",
       "362         146.0       120.0    2930          13.8          0.0          1.0   \n",
       "172          90.0        71.0    2223          16.5          1.0          0.0   \n",
       "22          104.0        95.0    2375          17.5          1.0          0.0   \n",
       "100         250.0        88.0    3021          16.5          0.0          1.0   \n",
       "\n",
       "     cylinders_8  origin_europe  origin_japan  origin_usa  \n",
       "236          0.0            0.0           0.0         1.0  \n",
       "362          0.0            0.0           1.0         0.0  \n",
       "172          0.0            1.0           0.0         0.0  \n",
       "22           0.0            1.0           0.0         0.0  \n",
       "100          0.0            0.0           0.0         1.0  "
      ]
     },
     "execution_count": 44,
     "metadata": {},
     "output_type": "execute_result"
    }
   ],
   "source": [
    "X_test_first_kept = X_test.copy()\n",
    "X_test_first_kept[encoder.get_feature_names_out()] = encoder.transform(X_test_first_kept[categorical_features])\n",
    "X_test_first_kept.drop(columns= categorical_features, inplace= True)\n",
    "X_test_first_kept.head()"
   ]
  },
  {
   "cell_type": "markdown",
   "id": "1830bc9a-40ca-4e61-b25d-a612df6795db",
   "metadata": {},
   "source": [
    "#### Update the settings in $OneHotEncoder$ to produce dense output and drop the first encoding per feature"
   ]
  },
  {
   "cell_type": "code",
   "execution_count": 47,
   "id": "bb3a5df3-11bb-494e-850c-22af1ccb2d02",
   "metadata": {},
   "outputs": [
    {
     "name": "stdout",
     "output_type": "stream",
     "text": [
      "Feature       Unique Values\n",
      "cylinders     [4 6 8]\n",
      "origin        ['europe' 'japan' 'usa']\n",
      "\n",
      "Encoded Feature Names\n",
      "cylinders_6\n",
      "cylinders_8\n",
      "origin_japan\n",
      "origin_usa\n",
      "\n",
      "Notice that cylinders_4 and origin_europe are not present.\n"
     ]
    }
   ],
   "source": [
    "encoder = OneHotEncoder(sparse_output= False, drop= 'first').fit(X_train[categorical_features])\n",
    "\n",
    "print(f'{\"Feature\":<10}{\"\":>4}{\"Unique Values\"}')\n",
    "for i in np.arange(len(encoder.feature_names_in_)):\n",
    "    print(f'{encoder.feature_names_in_[i]:<10}{\"\":>4}{encoder.categories_[i]}')\n",
    "print()\n",
    "print('Encoded Feature Names')\n",
    "[print(i) for i in encoder.get_feature_names_out()];\n",
    "print()\n",
    "print('Notice that cylinders_4 and origin_europe are not present.')"
   ]
  },
  {
   "cell_type": "markdown",
   "id": "13cc19b2-ca40-4afe-a56a-69c196dc4298",
   "metadata": {},
   "source": [
    "## Update the Training and Testing data to include the encoded features"
   ]
  },
  {
   "cell_type": "code",
   "execution_count": 50,
   "id": "f6e0d769-3c7b-4e04-98aa-6080b5d49805",
   "metadata": {},
   "outputs": [
    {
     "data": {
      "text/html": [
       "<div>\n",
       "<style scoped>\n",
       "    .dataframe tbody tr th:only-of-type {\n",
       "        vertical-align: middle;\n",
       "    }\n",
       "\n",
       "    .dataframe tbody tr th {\n",
       "        vertical-align: top;\n",
       "    }\n",
       "\n",
       "    .dataframe thead th {\n",
       "        text-align: right;\n",
       "    }\n",
       "</style>\n",
       "<table border=\"1\" class=\"dataframe\">\n",
       "  <thead>\n",
       "    <tr style=\"text-align: right;\">\n",
       "      <th></th>\n",
       "      <th>displacement</th>\n",
       "      <th>horsepower</th>\n",
       "      <th>weight</th>\n",
       "      <th>acceleration</th>\n",
       "      <th>cylinders_6</th>\n",
       "      <th>cylinders_8</th>\n",
       "      <th>origin_japan</th>\n",
       "      <th>origin_usa</th>\n",
       "    </tr>\n",
       "  </thead>\n",
       "  <tbody>\n",
       "    <tr>\n",
       "      <th>230</th>\n",
       "      <td>350.0</td>\n",
       "      <td>170.0</td>\n",
       "      <td>4165</td>\n",
       "      <td>11.4</td>\n",
       "      <td>0.0</td>\n",
       "      <td>1.0</td>\n",
       "      <td>0.0</td>\n",
       "      <td>1.0</td>\n",
       "    </tr>\n",
       "    <tr>\n",
       "      <th>0</th>\n",
       "      <td>307.0</td>\n",
       "      <td>130.0</td>\n",
       "      <td>3504</td>\n",
       "      <td>12.0</td>\n",
       "      <td>0.0</td>\n",
       "      <td>1.0</td>\n",
       "      <td>0.0</td>\n",
       "      <td>1.0</td>\n",
       "    </tr>\n",
       "    <tr>\n",
       "      <th>181</th>\n",
       "      <td>91.0</td>\n",
       "      <td>53.0</td>\n",
       "      <td>1795</td>\n",
       "      <td>17.5</td>\n",
       "      <td>0.0</td>\n",
       "      <td>0.0</td>\n",
       "      <td>1.0</td>\n",
       "      <td>0.0</td>\n",
       "    </tr>\n",
       "    <tr>\n",
       "      <th>281</th>\n",
       "      <td>200.0</td>\n",
       "      <td>85.0</td>\n",
       "      <td>2990</td>\n",
       "      <td>18.2</td>\n",
       "      <td>1.0</td>\n",
       "      <td>0.0</td>\n",
       "      <td>0.0</td>\n",
       "      <td>1.0</td>\n",
       "    </tr>\n",
       "    <tr>\n",
       "      <th>317</th>\n",
       "      <td>97.0</td>\n",
       "      <td>78.0</td>\n",
       "      <td>2188</td>\n",
       "      <td>15.8</td>\n",
       "      <td>0.0</td>\n",
       "      <td>0.0</td>\n",
       "      <td>0.0</td>\n",
       "      <td>0.0</td>\n",
       "    </tr>\n",
       "  </tbody>\n",
       "</table>\n",
       "</div>"
      ],
      "text/plain": [
       "     displacement  horsepower  weight  acceleration  cylinders_6  cylinders_8  \\\n",
       "230         350.0       170.0    4165          11.4          0.0          1.0   \n",
       "0           307.0       130.0    3504          12.0          0.0          1.0   \n",
       "181          91.0        53.0    1795          17.5          0.0          0.0   \n",
       "281         200.0        85.0    2990          18.2          1.0          0.0   \n",
       "317          97.0        78.0    2188          15.8          0.0          0.0   \n",
       "\n",
       "     origin_japan  origin_usa  \n",
       "230           0.0         1.0  \n",
       "0             0.0         1.0  \n",
       "181           1.0         0.0  \n",
       "281           0.0         1.0  \n",
       "317           0.0         0.0  "
      ]
     },
     "execution_count": 50,
     "metadata": {},
     "output_type": "execute_result"
    }
   ],
   "source": [
    "X_train_first_dropped = X_train.copy()\n",
    "X_train_first_dropped[encoder.get_feature_names_out()] = encoder.transform(X_train_first_dropped[categorical_features])\n",
    "X_train_first_dropped.drop(columns= categorical_features, inplace= True)\n",
    "X_train_first_dropped.head()"
   ]
  },
  {
   "cell_type": "code",
   "execution_count": 52,
   "id": "2f1577d1-07aa-40a3-b1f9-7d7d979fe237",
   "metadata": {},
   "outputs": [
    {
     "data": {
      "text/html": [
       "<div>\n",
       "<style scoped>\n",
       "    .dataframe tbody tr th:only-of-type {\n",
       "        vertical-align: middle;\n",
       "    }\n",
       "\n",
       "    .dataframe tbody tr th {\n",
       "        vertical-align: top;\n",
       "    }\n",
       "\n",
       "    .dataframe thead th {\n",
       "        text-align: right;\n",
       "    }\n",
       "</style>\n",
       "<table border=\"1\" class=\"dataframe\">\n",
       "  <thead>\n",
       "    <tr style=\"text-align: right;\">\n",
       "      <th></th>\n",
       "      <th>displacement</th>\n",
       "      <th>horsepower</th>\n",
       "      <th>weight</th>\n",
       "      <th>acceleration</th>\n",
       "      <th>cylinders_6</th>\n",
       "      <th>cylinders_8</th>\n",
       "      <th>origin_japan</th>\n",
       "      <th>origin_usa</th>\n",
       "    </tr>\n",
       "  </thead>\n",
       "  <tbody>\n",
       "    <tr>\n",
       "      <th>236</th>\n",
       "      <td>140.0</td>\n",
       "      <td>89.0</td>\n",
       "      <td>2755</td>\n",
       "      <td>15.8</td>\n",
       "      <td>0.0</td>\n",
       "      <td>0.0</td>\n",
       "      <td>0.0</td>\n",
       "      <td>1.0</td>\n",
       "    </tr>\n",
       "    <tr>\n",
       "      <th>362</th>\n",
       "      <td>146.0</td>\n",
       "      <td>120.0</td>\n",
       "      <td>2930</td>\n",
       "      <td>13.8</td>\n",
       "      <td>1.0</td>\n",
       "      <td>0.0</td>\n",
       "      <td>1.0</td>\n",
       "      <td>0.0</td>\n",
       "    </tr>\n",
       "    <tr>\n",
       "      <th>172</th>\n",
       "      <td>90.0</td>\n",
       "      <td>71.0</td>\n",
       "      <td>2223</td>\n",
       "      <td>16.5</td>\n",
       "      <td>0.0</td>\n",
       "      <td>0.0</td>\n",
       "      <td>0.0</td>\n",
       "      <td>0.0</td>\n",
       "    </tr>\n",
       "    <tr>\n",
       "      <th>22</th>\n",
       "      <td>104.0</td>\n",
       "      <td>95.0</td>\n",
       "      <td>2375</td>\n",
       "      <td>17.5</td>\n",
       "      <td>0.0</td>\n",
       "      <td>0.0</td>\n",
       "      <td>0.0</td>\n",
       "      <td>0.0</td>\n",
       "    </tr>\n",
       "    <tr>\n",
       "      <th>100</th>\n",
       "      <td>250.0</td>\n",
       "      <td>88.0</td>\n",
       "      <td>3021</td>\n",
       "      <td>16.5</td>\n",
       "      <td>1.0</td>\n",
       "      <td>0.0</td>\n",
       "      <td>0.0</td>\n",
       "      <td>1.0</td>\n",
       "    </tr>\n",
       "  </tbody>\n",
       "</table>\n",
       "</div>"
      ],
      "text/plain": [
       "     displacement  horsepower  weight  acceleration  cylinders_6  cylinders_8  \\\n",
       "236         140.0        89.0    2755          15.8          0.0          0.0   \n",
       "362         146.0       120.0    2930          13.8          1.0          0.0   \n",
       "172          90.0        71.0    2223          16.5          0.0          0.0   \n",
       "22          104.0        95.0    2375          17.5          0.0          0.0   \n",
       "100         250.0        88.0    3021          16.5          1.0          0.0   \n",
       "\n",
       "     origin_japan  origin_usa  \n",
       "236           0.0         1.0  \n",
       "362           1.0         0.0  \n",
       "172           0.0         0.0  \n",
       "22            0.0         0.0  \n",
       "100           0.0         1.0  "
      ]
     },
     "execution_count": 52,
     "metadata": {},
     "output_type": "execute_result"
    }
   ],
   "source": [
    "X_test_first_dropped = X_test.copy()\n",
    "X_test_first_dropped[encoder.get_feature_names_out()] = encoder.transform(X_test_first_dropped[categorical_features])\n",
    "X_test_first_dropped.drop(columns= categorical_features, inplace= True)\n",
    "X_test_first_dropped.head()"
   ]
  },
  {
   "cell_type": "markdown",
   "id": "5856f055-5dc8-400e-a648-489aee77cf70",
   "metadata": {},
   "source": [
    "# Does $drop=first$ change the model?"
   ]
  },
  {
   "cell_type": "markdown",
   "id": "18ea6d67-c82f-42e4-9909-7f2cea9cd73d",
   "metadata": {},
   "source": [
    "## Create Linear Regression instances and train on the respective data"
   ]
  },
  {
   "cell_type": "code",
   "execution_count": 56,
   "id": "8649c119-2819-4c6e-b255-b8920506b970",
   "metadata": {},
   "outputs": [],
   "source": [
    "lin_reg_first_kept = LinearRegression().fit(X= X_train_first_kept, y= y_train)\n",
    "\n",
    "lin_reg_first_dropped = LinearRegression().fit(X= X_train_first_dropped, y= y_train)"
   ]
  },
  {
   "cell_type": "markdown",
   "id": "a11e49c0-e788-42fc-8d69-26408d6461d2",
   "metadata": {},
   "source": [
    "### Compare the weights from the regressors"
   ]
  },
  {
   "cell_type": "code",
   "execution_count": 59,
   "id": "eaecf543-5495-4c49-9bb8-bc547adb1bf6",
   "metadata": {},
   "outputs": [
    {
     "name": "stdout",
     "output_type": "stream",
     "text": [
      "                  First Kept\n",
      "     Intercept       41.4492\n",
      "  displacement        0.0045\n",
      "    horsepower       -0.0643\n",
      "        weight        -0.004\n",
      "  acceleration       -0.0185\n",
      "   cylinders_4        1.8843\n",
      "   cylinders_6        -2.093\n",
      "   cylinders_8        0.2087\n",
      " origin_europe       -0.3946\n",
      "  origin_japan        1.4989\n",
      "    origin_usa       -1.1043\n",
      "\n",
      "               First Dropped\n",
      "     Intercept       42.9389\n",
      "  displacement        0.0045\n",
      "    horsepower       -0.0643\n",
      "        weight        -0.004\n",
      "  acceleration       -0.0185\n",
      "   cylinders_6       -3.9773\n",
      "   cylinders_8       -1.6756\n",
      "  origin_japan        1.8935\n",
      "    origin_usa       -0.7096\n"
     ]
    }
   ],
   "source": [
    "print(f'{\"\":>14}{\"First Kept\":>14}')\n",
    "print(f'{\"Intercept\":>14}{np.round(lin_reg_first_kept.intercept_, 4):>14}')\n",
    "[print(f'{col:>14}{np.round(val, 4):>14}') for col, val in list(zip(X_train_first_kept.columns, lin_reg_first_kept.coef_))];\n",
    "print()\n",
    "print(f'{\"\":>14}{\"First Dropped\":>14}')\n",
    "print(f'{\"Intercept\":>14}{np.round(lin_reg_first_dropped.intercept_, 4):>14}')\n",
    "[print(f'{col:>14}{np.round(val, 4):>14}') for col, val in list(zip(X_train_first_dropped.columns, lin_reg_first_dropped.coef_))];"
   ]
  },
  {
   "cell_type": "markdown",
   "id": "953614ad-6c21-4f52-bb1c-ed449570b596",
   "metadata": {},
   "source": [
    "### Compare the predictions from the Regressors"
   ]
  },
  {
   "cell_type": "code",
   "execution_count": 62,
   "id": "f974c533-de6c-499b-a85d-6f741b544893",
   "metadata": {},
   "outputs": [
    {
     "data": {
      "text/plain": [
       "array([[25.69530025, 25.69530025],\n",
       "       [21.68449451, 21.68449451],\n",
       "       [29.47690647, 29.47690647],\n",
       "       [27.36368001, 27.36368001],\n",
       "       [21.18828723, 21.18828723],\n",
       "       [23.92729366, 23.92729366],\n",
       "       [16.21965979, 16.21965979],\n",
       "       [16.34591084, 16.34591084],\n",
       "       [28.86249021, 28.86249021],\n",
       "       [18.38358794, 18.38358794],\n",
       "       [34.85194468, 34.85194468],\n",
       "       [21.45019442, 21.45019442],\n",
       "       [15.62760135, 15.62760135],\n",
       "       [18.78890312, 18.78890312],\n",
       "       [31.83493229, 31.83493229],\n",
       "       [32.16948052, 32.16948052],\n",
       "       [33.85920771, 33.85920771],\n",
       "       [16.82569336, 16.82569336],\n",
       "       [20.69779221, 20.69779221],\n",
       "       [32.28272714, 32.28272714]])"
      ]
     },
     "execution_count": 62,
     "metadata": {},
     "output_type": "execute_result"
    }
   ],
   "source": [
    "np.stack((lin_reg_first_kept.predict(X= X_test_first_kept), lin_reg_first_dropped.predict(X= X_test_first_dropped)), axis= 1)[:20]"
   ]
  },
  {
   "cell_type": "code",
   "execution_count": null,
   "id": "c3778c98-cd9c-4389-8aee-e90d5f174d03",
   "metadata": {},
   "outputs": [],
   "source": []
  }
 ],
 "metadata": {
  "kernelspec": {
   "display_name": "Python 3 (ipykernel)",
   "language": "python",
   "name": "python3"
  },
  "language_info": {
   "codemirror_mode": {
    "name": "ipython",
    "version": 3
   },
   "file_extension": ".py",
   "mimetype": "text/x-python",
   "name": "python",
   "nbconvert_exporter": "python",
   "pygments_lexer": "ipython3",
   "version": "3.12.4"
  }
 },
 "nbformat": 4,
 "nbformat_minor": 5
}
